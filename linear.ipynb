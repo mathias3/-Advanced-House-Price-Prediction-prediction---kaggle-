{
 "cells": [
  {
   "cell_type": "code",
   "execution_count": 1,
   "metadata": {
    "collapsed": true
   },
   "outputs": [],
   "source": [
    "%matplotlib inline\n",
    "\n",
    "import numpy as np\n",
    "import pandas as pd\n",
    "import seaborn as sns\n",
    "import matplotlib.pyplot as plt\n",
    "\n",
    "from sklearn.preprocessing import normalize\n",
    "from sklearn.model_selection import cross_val_score\n",
    "from sklearn.linear_model import Ridge"
   ]
  },
  {
   "cell_type": "code",
   "execution_count": 2,
   "metadata": {
    "collapsed": true
   },
   "outputs": [],
   "source": [
    "df_train = pd.read_csv('train.csv')\n",
    "df_test = pd.read_csv('test.csv')"
   ]
  },
  {
   "cell_type": "code",
   "execution_count": 3,
   "metadata": {
    "collapsed": true
   },
   "outputs": [],
   "source": [
    "y_train = df_train[['SalePrice']]\n",
    "y_train = y_train.fillna(y_train.mean()).values.ravel()\n",
    "y_train = np.log1p(y_train)"
   ]
  },
  {
   "cell_type": "code",
   "execution_count": 4,
   "metadata": {
    "collapsed": true
   },
   "outputs": [],
   "source": [
    "\n",
    "X_train = df_train.drop(['Id', 'SalePrice'], axis=1)\n",
    "X_test = df_test.drop(['Id'], axis=1)\n",
    "X_all = pd.concat([X_train, X_test], axis=0)\n",
    "\n",
    "X_all_cat = X_all.select_dtypes(include=['object'])\n",
    "X_all_num = X_all.select_dtypes(exclude=['object'])\n",
    "\n",
    "#create dummy variables for categorical variables\n",
    "X_all_cat = pd.get_dummies(X_all_cat)\n",
    "\n",
    "#impute missing values\n",
    "X_all_cat = X_all_cat.fillna(X_all_cat.mean())\n",
    "X_all_num = X_all_num.fillna(X_all_num.mean())\n",
    "\n",
    "#concatenate variables\n",
    "X_all = pd.concat([X_all_cat, X_all_num], axis=1)\n",
    "\n",
    "#split again between train and test\n",
    "X_train = X_all[:df_train.shape[0]]\n",
    "X_test = X_all[df_train.shape[0]:]"
   ]
  },
  {
   "cell_type": "code",
   "execution_count": 9,
   "metadata": {
    "collapsed": false
   },
   "outputs": [
    {
     "data": {
      "text/plain": [
       "[<matplotlib.lines.Line2D at 0xd1eed68>]"
      ]
     },
     "execution_count": 9,
     "metadata": {},
     "output_type": "execute_result"
    },
    {
     "data": {
      "image/png": "[encoded data removed]",
      "text/plain": [
       "<matplotlib.figure.Figure at 0xcced6d8>"
      ]
     },
     "metadata": {},
     "output_type": "display_data"
    }
   ],
   "source": [
    "alphas = [0.05, 0.1, 0.3, 1, 3, 5, 10, 15, 30, 50, 75]\n",
    "\n",
    "models = [Ridge(random_state=0, alpha=a) for a in alphas]\n",
    "\n",
    "rmses = [np.sqrt(-cross_val_score(model, X_train, y_train, \n",
    "                               cv=10, scoring='neg_mean_squared_error')) \n",
    "         for model in models]\n",
    "\n",
    "plt.plot(alphas, [rmse.mean() for rmse in rmses])"
   ]
  },
  {
   "cell_type": "code",
   "execution_count": 11,
   "metadata": {
    "collapsed": true
   },
   "outputs": [],
   "source": [
    "model = Ridge(random_state=0, alpha=15)\n",
    "model.fit(X_train, y_train)\n",
    "yhat = model.predict(X_test)"
   ]
  },
  {
   "cell_type": "code",
   "execution_count": 12,
   "metadata": {
    "collapsed": true
   },
   "outputs": [],
   "source": [
    "submission = pd.DataFrame()\n",
    "submission['Id'] = df_test['Id']\n",
    "submission['SalePrice'] = np.exp(yhat) - 1"
   ]
  },
  {
   "cell_type": "code",
   "execution_count": 13,
   "metadata": {
    "collapsed": true
   },
   "outputs": [],
   "source": [
    "submission.to_csv('ridge_regression_submission.csv',  index=False)"
   ]
  },
  {
   "cell_type": "code",
   "execution_count": null,
   "metadata": {
    "collapsed": true
   },
   "outputs": [],
   "source": []
  }
 ],
 "metadata": {
  "kernelspec": {
   "display_name": "Python [Root]",
   "language": "python",
   "name": "Python [Root]"
  },
  "language_info": {
   "codemirror_mode": {
    "name": "ipython",
    "version": 2
   },
   "file_extension": ".py",
   "mimetype": "text/x-python",
   "name": "python",
   "nbconvert_exporter": "python",
   "pygments_lexer": "ipython2",
   "version": "2.7.12"
  }
 },
 "nbformat": 4,
 "nbformat_minor": 0
}
